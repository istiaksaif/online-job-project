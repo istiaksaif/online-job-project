{
  "cells": [
    {
      "cell_type": "markdown",
      "metadata": {
        "id": "view-in-github",
        "colab_type": "text"
      },
      "source": [
        "<a href=\"https://colab.research.google.com/github/istiaksaif/online-job-project/blob/main/cse465%26498R.ipynb\" target=\"_parent\"><img src=\"https://colab.research.google.com/assets/colab-badge.svg\" alt=\"Open In Colab\"/></a>"
      ]
    },
    {
      "cell_type": "markdown",
      "metadata": {
        "id": "0CgBG2mjwmO0"
      },
      "source": [
        "# **Copy dataset from KAGGLE & save to drive**"
      ]
    },
    {
      "cell_type": "code",
      "execution_count": null,
      "metadata": {
        "colab": {
          "base_uri": "https://localhost:8080/"
        },
        "id": "CpALXUSWPn8w",
        "outputId": "1eb97744-324e-4929-fc5a-ec5e7e09fbff"
      },
      "outputs": [
        {
          "name": "stdout",
          "output_type": "stream",
          "text": [
            "Mounted at /content/drive\n"
          ]
        }
      ],
      "source": [
        "from google.colab import drive\n",
        "drive.mount('/content/drive',force_remount=True)"
      ]
    },
    {
      "cell_type": "code",
      "execution_count": null,
      "metadata": {
        "id": "dIvdp2voQKZs"
      },
      "outputs": [],
      "source": [
        "import os\n",
        "os.environ['KAGGLE_CONFIG_DIR']= \"/content/drive/MyDrive/kaggle\""
      ]
    },
    {
      "cell_type": "code",
      "execution_count": null,
      "metadata": {
        "colab": {
          "base_uri": "https://localhost:8080/"
        },
        "id": "ygY66ZkERild",
        "outputId": "83805743-c394-4ebb-92a4-652e9bea1b3b"
      },
      "outputs": [
        {
          "name": "stdout",
          "output_type": "stream",
          "text": [
            "/content/drive/MyDrive/kaggle\n"
          ]
        }
      ],
      "source": [
        "%cd \"/content/drive/MyDrive/kaggle\""
      ]
    },
    {
      "cell_type": "code",
      "execution_count": null,
      "metadata": {
        "colab": {
          "base_uri": "https://localhost:8080/"
        },
        "id": "CCttFTAEUAyg",
        "outputId": "6a0fbdc5-8a3b-426e-bcce-dd9f50acdfc0"
      },
      "outputs": [
        {
          "name": "stdout",
          "output_type": "stream",
          "text": [
            "Downloading vehicle-detection-bangladeshi-roads.zip to /content/drive/MyDrive/kaggle\n",
            " 97% 132M/136M [00:03<00:00, 54.7MB/s]\n",
            "100% 136M/136M [00:03<00:00, 42.4MB/s]\n"
          ]
        }
      ],
      "source": [
        "!kaggle datasets download -d nazmultakbir/vehicle-detection-bangladeshi-roads"
      ]
    },
    {
      "cell_type": "code",
      "execution_count": null,
      "metadata": {
        "id": "LwvCYwZvUan-"
      },
      "outputs": [],
      "source": [
        "!unzip \\*.zip && rm *.zip"
      ]
    },
    {
      "cell_type": "markdown",
      "metadata": {
        "id": "FBdGSLBvw1nd"
      },
      "source": [
        "**data analysis**"
      ]
    },
    {
      "cell_type": "code",
      "execution_count": null,
      "metadata": {
        "id": "oIC6RSehygsz"
      },
      "outputs": [],
      "source": [
        "import numpy as np\n",
        "import pandas as pd\n",
        "import os\n",
        "import glob\n",
        "import random\n",
        "from PIL import Image"
      ]
    },
    {
      "cell_type": "code",
      "execution_count": null,
      "metadata": {
        "colab": {
          "base_uri": "https://localhost:8080/"
        },
        "id": "_ZMWa5qPxB0e",
        "outputId": "44a6b9da-5f1a-4877-a5f3-64ea529c2a3a"
      },
      "outputs": [
        {
          "data": {
            "text/plain": [
              "(['kaggle.json', 'Images', 'Labels'], ['test', 'train'])"
            ]
          },
          "execution_count": 14,
          "metadata": {},
          "output_type": "execute_result"
        }
      ],
      "source": [
        "vehicle_data_path = \"/content/drive/MyDrive/kaggle\"\n",
        "vehicle_data_path_nav = \"/content/drive/MyDrive/NativeCarDataset\"\n",
        "os.listdir(vehicle_data_path), os.listdir(vehicle_data_path_nav)"
      ]
    },
    {
      "cell_type": "code",
      "execution_count": null,
      "metadata": {
        "colab": {
          "base_uri": "https://localhost:8080/"
        },
        "id": "nyxwWLBUycMM",
        "outputId": "5b1ec7a9-d141-44e1-9a4f-a84257764838"
      },
      "outputs": [
        {
          "data": {
            "text/plain": [
              "(720, 720)"
            ]
          },
          "execution_count": 28,
          "metadata": {},
          "output_type": "execute_result"
        }
      ],
      "source": [
        "paths_train=glob.glob(os.path.join(vehicle_data_path,'*/*','*.jpg'))\n",
        "paths_train_xml=glob.glob(os.path.join(vehicle_data_path,'*/*','*.txt'))\n",
        "\n",
        "#paths_test=glob.glob(os.path.join(vehicle_data_path,'test/*/*','*.jpg'))\n",
        "#paths_test_xml=glob.glob(os.path.join(vehicle_data_path,'test/*/*','*.xml'))\n",
        "\n",
        "len(paths_train), len(paths_train_xml), \n",
        "#len(paths_test),len(paths_test_xml)"
      ]
    },
    {
      "cell_type": "code",
      "execution_count": null,
      "metadata": {
        "colab": {
          "base_uri": "https://localhost:8080/"
        },
        "id": "bApbHpNS0svS",
        "outputId": "b0e35508-bd32-4d17-f0be-44cf4ae0a954"
      },
      "outputs": [
        {
          "name": "stdout",
          "output_type": "stream",
          "text": [
            "Total images:  720\n",
            "Training:  576\n",
            "Testing:  144\n"
          ]
        }
      ],
      "source": [
        "import shutil\n",
        "\n",
        "#os.makedirs(vehicle_data_path +'/train1/Horse-cart/annotations')\n",
        "#os.makedirs(vehicle_data_path +'/test1/Horse-cart/annotations')\n",
        "\n",
        "src = \"/content/drive/MyDrive/kaggle/Labels/Labels\"\n",
        "\n",
        "allFileNames = os.listdir(src)\n",
        "np.random.shuffle(allFileNames)\n",
        "train_FileNames, test_FileNames = np.split(np.array(allFileNames),\n",
        "                                                          [int(len(allFileNames)*0.8)])\n",
        "\n",
        "\n",
        "train_FileNames = [src+'/'+ name for name in train_FileNames.tolist()]\n",
        "test_FileNames = [src+'/' + name for name in test_FileNames.tolist()]\n",
        "\n",
        "print('Total images: ', len(allFileNames))\n",
        "print('Training: ', len(train_FileNames))\n",
        "print('Testing: ', len(test_FileNames))\n",
        "\n",
        "# Copy-pasting images\n",
        "for name in train_FileNames:\n",
        "    shutil.copy(name, \"/content/drive/MyDrive/NativeCarDataset/train/Multi-class Vehicles/annotations\")\n",
        "\n",
        "for name in test_FileNames:\n",
        "    shutil.copy(name, \"/content/drive/MyDrive/NativeCarDataset/test/Multi-class Vehicles/annotations\")"
      ]
    },
    {
      "cell_type": "code",
      "execution_count": null,
      "metadata": {
        "colab": {
          "base_uri": "https://localhost:8080/"
        },
        "id": "wTHUnaMT19MU",
        "outputId": "e44ca0b4-0049-400f-9fb5-4049d7b2ade4"
      },
      "outputs": [
        {
          "data": {
            "text/plain": [
              "(6439, 5874, 1615, 1476)"
            ]
          },
          "execution_count": 29,
          "metadata": {},
          "output_type": "execute_result"
        }
      ],
      "source": [
        "paths_train=glob.glob(os.path.join(vehicle_data_path_nav,'train/*/*','*.jpg'))\n",
        "paths_train_xml=glob.glob(os.path.join(vehicle_data_path_nav,'train/*/*','*.xml'))\n",
        "\n",
        "paths_test=glob.glob(os.path.join(vehicle_data_path_nav,'test/*/*','*.jpg'))\n",
        "paths_test_xml=glob.glob(os.path.join(vehicle_data_path_nav,'test/*/*','*.xml'))\n",
        "\n",
        "len(paths_train), len(paths_train_xml), len(paths_test),len(paths_test_xml)"
      ]
    },
    {
      "cell_type": "markdown",
      "metadata": {
        "id": "BcrgQwQxzpf8"
      },
      "source": [
        "# CSE498R VGG16 with Confusion Matrix diff Custom, Fine tune also without Fine Tune"
      ]
    },
    {
      "cell_type": "markdown",
      "metadata": {
        "id": "_7LbJE8Sz4N4"
      },
      "source": [
        "### Drive mount"
      ]
    },
    {
      "cell_type": "code",
      "execution_count": null,
      "metadata": {
        "colab": {
          "base_uri": "https://localhost:8080/"
        },
        "id": "2puVp_0Rz2mC",
        "outputId": "8491e7df-ec6d-496b-edd0-b96effa198d1"
      },
      "outputs": [
        {
          "name": "stdout",
          "output_type": "stream",
          "text": [
            "Mounted at /content/drive\n"
          ]
        }
      ],
      "source": [
        "from google.colab import drive\n",
        "drive.mount('/content/drive',force_remount=True)"
      ]
    },
    {
      "cell_type": "code",
      "execution_count": null,
      "metadata": {
        "id": "n2bk7HZf0CXy"
      },
      "outputs": [],
      "source": [
        "import os\n",
        "from keras.models import Model\n",
        "from keras.applications.vgg19 import VGG19, preprocess_input\n",
        "from keras.preprocessing.image import ImageDataGenerator\n",
        "from keras.callbacks import ModelCheckpoint, EarlyStopping\n",
        "from keras.layers import Dense, Dropout, Flatten\n",
        "from pathlib import Path\n",
        "import numpy as np"
      ]
    },
    {
      "cell_type": "code",
      "execution_count": null,
      "metadata": {
        "id": "nx7WfJvU0bhI"
      },
      "outputs": [],
      "source": [
        "BATCH_SIZE = 64\n",
        "\n",
        "train_generator = ImageDataGenerator(rotation_range=90, \n",
        "                                     brightness_range=[0.1, 0.7],\n",
        "                                     width_shift_range=0.5, \n",
        "                                     height_shift_range=0.5,\n",
        "                                     horizontal_flip=True, \n",
        "                                     vertical_flip=True,\n",
        "                                     validation_split=0.15,\n",
        "                                     preprocessing_function=preprocess_input) \n",
        "\n",
        "test_generator = ImageDataGenerator(preprocessing_function=preprocess_input) "
      ]
    },
    {
      "cell_type": "code",
      "execution_count": null,
      "metadata": {
        "id": "XQ0cEA7W06j4"
      },
      "outputs": [],
      "source": [
        "download_dir = Path('/content/drive/MyDrive/shortcurt/NativeCarDataset')"
      ]
    },
    {
      "cell_type": "code",
      "execution_count": null,
      "metadata": {
        "colab": {
          "base_uri": "https://localhost:8080/"
        },
        "id": "dCQLAsG91HYY",
        "outputId": "94c1737a-ee11-43ac-8c76-c5c2da5cea76"
      },
      "outputs": [
        {
          "name": "stdout",
          "output_type": "stream",
          "text": [
            "Found 5485 images belonging to 13 classes.\n",
            "Found 959 images belonging to 13 classes.\n",
            "Found 1618 images belonging to 13 classes.\n"
          ]
        }
      ],
      "source": [
        "train_data_dir = download_dir/'train'\n",
        "test_data_dir = download_dir/'test'\n",
        "\n",
        "class_subset = sorted(os.listdir('/content/drive/MyDrive/shortcurt/NativeCarDataset/test'))[:13] # Using only the first 13 classes\n",
        "\n",
        "traingen = train_generator.flow_from_directory(train_data_dir,\n",
        "                                               target_size=(224, 224),\n",
        "                                               class_mode='categorical',\n",
        "                                               subset='training',\n",
        "                                               batch_size=BATCH_SIZE, \n",
        "                                               shuffle=True,\n",
        "                                               seed=42)\n",
        "\n",
        "validgen = train_generator.flow_from_directory(train_data_dir,\n",
        "                                               target_size=(224, 224),\n",
        "                                               class_mode='categorical',\n",
        "                                               subset='validation',\n",
        "                                               batch_size=BATCH_SIZE,\n",
        "                                               shuffle=True,\n",
        "                                               seed=42)\n",
        "\n",
        "testgen = test_generator.flow_from_directory(test_data_dir,\n",
        "                                             target_size=(224, 224),\n",
        "                                             class_mode=None,\n",
        "                                             batch_size=1,\n",
        "                                             shuffle=False,\n",
        "                                             seed=42)"
      ]
    },
    {
      "cell_type": "code",
      "execution_count": null,
      "metadata": {
        "id": "c68LumPb21Dq"
      },
      "outputs": [],
      "source": [
        "def create_model(input_shape, n_classes, optimizer='rmsprop', fine_tune=0):\n",
        "    conv_base = VGG19(include_top=False,\n",
        "                     weights='imagenet', \n",
        "                     input_shape=input_shape)\n",
        "    \n",
        "    if fine_tune > 0:\n",
        "        for layer in conv_base.layers[:-fine_tune]:\n",
        "            layer.trainable = False\n",
        "    else:\n",
        "        for layer in conv_base.layers:\n",
        "            layer.trainable = False\n",
        "\n",
        "    top_model = conv_base.output\n",
        "    top_model = Flatten(name=\"flatten\")(top_model)\n",
        "    top_model = Dense(4096, activation='relu')(top_model)\n",
        "    top_model = Dense(1072, activation='relu')(top_model)\n",
        "    top_model = Dropout(0.2)(top_model)\n",
        "    output_layer = Dense(n_classes, activation='softmax')(top_model)\n",
        "    \n",
        "    # Group the convolutional base and new fully-connected layers into a Model object.\n",
        "    model = Model(inputs=conv_base.input, outputs=output_layer)\n",
        "\n",
        "    # Compiles the model for training.\n",
        "    model.compile(optimizer=optimizer, \n",
        "                  loss='categorical_crossentropy',\n",
        "                  metrics=['accuracy'])\n",
        "    \n",
        "    return model"
      ]
    },
    {
      "cell_type": "code",
      "execution_count": null,
      "metadata": {
        "id": "cNigjrth28qj"
      },
      "outputs": [],
      "source": [
        "from tensorflow.keras.optimizers import Adam\n",
        "input_shape = (224, 224, 3)\n",
        "optim_1 = Adam(learning_rate=0.001)\n",
        "n_classes=13\n",
        "\n",
        "n_steps = traingen.samples // BATCH_SIZE\n",
        "n_val_steps = validgen.samples // BATCH_SIZE\n",
        "n_epochs = 30\n",
        "\n",
        "# First we'll train the model without Fine-tuning\n",
        "vgg_model = create_model(input_shape, n_classes, optim_1, fine_tune=0)"
      ]
    },
    {
      "cell_type": "code",
      "execution_count": null,
      "metadata": {
        "colab": {
          "base_uri": "https://localhost:8080/"
        },
        "id": "WNVUwH7U4fl8",
        "outputId": "6419e89f-3329-4ffa-d191-93ff928529de"
      },
      "outputs": [
        {
          "name": "stdout",
          "output_type": "stream",
          "text": [
            "\u001b[?25l\r\u001b[K     |██▍                             | 10 kB 38.7 MB/s eta 0:00:01\r\u001b[K     |████▊                           | 20 kB 10.4 MB/s eta 0:00:01\r\u001b[K     |███████▏                        | 30 kB 8.8 MB/s eta 0:00:01\r\u001b[K     |█████████▌                      | 40 kB 8.2 MB/s eta 0:00:01\r\u001b[K     |███████████▉                    | 51 kB 4.9 MB/s eta 0:00:01\r\u001b[K     |██████████████▎                 | 61 kB 5.4 MB/s eta 0:00:01\r\u001b[K     |████████████████▋               | 71 kB 5.3 MB/s eta 0:00:01\r\u001b[K     |███████████████████             | 81 kB 6.0 MB/s eta 0:00:01\r\u001b[K     |█████████████████████▍          | 92 kB 4.6 MB/s eta 0:00:01\r\u001b[K     |███████████████████████▊        | 102 kB 5.1 MB/s eta 0:00:01\r\u001b[K     |██████████████████████████      | 112 kB 5.1 MB/s eta 0:00:01\r\u001b[K     |████████████████████████████▌   | 122 kB 5.1 MB/s eta 0:00:01\r\u001b[K     |██████████████████████████████▉ | 133 kB 5.1 MB/s eta 0:00:01\r\u001b[K     |████████████████████████████████| 138 kB 5.1 MB/s \n",
            "\u001b[?25hCollecting livelossplot\n",
            "  Downloading livelossplot-0.5.4-py3-none-any.whl (22 kB)\n",
            "Requirement already satisfied: ipython in /usr/local/lib/python3.7/dist-packages (from livelossplot) (5.5.0)\n",
            "Requirement already satisfied: matplotlib in /usr/local/lib/python3.7/dist-packages (from livelossplot) (3.2.2)\n",
            "Requirement already satisfied: bokeh in /usr/local/lib/python3.7/dist-packages (from livelossplot) (2.3.3)\n",
            "Requirement already satisfied: Jinja2>=2.9 in /usr/local/lib/python3.7/dist-packages (from bokeh->livelossplot) (2.11.3)\n",
            "Requirement already satisfied: PyYAML>=3.10 in /usr/local/lib/python3.7/dist-packages (from bokeh->livelossplot) (3.13)\n",
            "Requirement already satisfied: python-dateutil>=2.1 in /usr/local/lib/python3.7/dist-packages (from bokeh->livelossplot) (2.8.2)\n",
            "Requirement already satisfied: packaging>=16.8 in /usr/local/lib/python3.7/dist-packages (from bokeh->livelossplot) (21.3)\n",
            "Requirement already satisfied: typing-extensions>=3.7.4 in /usr/local/lib/python3.7/dist-packages (from bokeh->livelossplot) (3.10.0.2)\n",
            "Requirement already satisfied: numpy>=1.11.3 in /usr/local/lib/python3.7/dist-packages (from bokeh->livelossplot) (1.19.5)\n",
            "Requirement already satisfied: pillow>=7.1.0 in /usr/local/lib/python3.7/dist-packages (from bokeh->livelossplot) (7.1.2)\n",
            "Requirement already satisfied: tornado>=5.1 in /usr/local/lib/python3.7/dist-packages (from bokeh->livelossplot) (5.1.1)\n",
            "Requirement already satisfied: MarkupSafe>=0.23 in /usr/local/lib/python3.7/dist-packages (from Jinja2>=2.9->bokeh->livelossplot) (2.0.1)\n",
            "Requirement already satisfied: pyparsing!=3.0.5,>=2.0.2 in /usr/local/lib/python3.7/dist-packages (from packaging>=16.8->bokeh->livelossplot) (3.0.6)\n",
            "Requirement already satisfied: six>=1.5 in /usr/local/lib/python3.7/dist-packages (from python-dateutil>=2.1->bokeh->livelossplot) (1.15.0)\n",
            "Requirement already satisfied: pickleshare in /usr/local/lib/python3.7/dist-packages (from ipython->livelossplot) (0.7.5)\n",
            "Requirement already satisfied: traitlets>=4.2 in /usr/local/lib/python3.7/dist-packages (from ipython->livelossplot) (5.1.1)\n",
            "Requirement already satisfied: simplegeneric>0.8 in /usr/local/lib/python3.7/dist-packages (from ipython->livelossplot) (0.8.1)\n",
            "Requirement already satisfied: decorator in /usr/local/lib/python3.7/dist-packages (from ipython->livelossplot) (4.4.2)\n",
            "Requirement already satisfied: pexpect in /usr/local/lib/python3.7/dist-packages (from ipython->livelossplot) (4.8.0)\n",
            "Requirement already satisfied: prompt-toolkit<2.0.0,>=1.0.4 in /usr/local/lib/python3.7/dist-packages (from ipython->livelossplot) (1.0.18)\n",
            "Requirement already satisfied: setuptools>=18.5 in /usr/local/lib/python3.7/dist-packages (from ipython->livelossplot) (57.4.0)\n",
            "Requirement already satisfied: pygments in /usr/local/lib/python3.7/dist-packages (from ipython->livelossplot) (2.6.1)\n",
            "Requirement already satisfied: wcwidth in /usr/local/lib/python3.7/dist-packages (from prompt-toolkit<2.0.0,>=1.0.4->ipython->livelossplot) (0.2.5)\n",
            "Requirement already satisfied: kiwisolver>=1.0.1 in /usr/local/lib/python3.7/dist-packages (from matplotlib->livelossplot) (1.3.2)\n",
            "Requirement already satisfied: cycler>=0.10 in /usr/local/lib/python3.7/dist-packages (from matplotlib->livelossplot) (0.11.0)\n",
            "Requirement already satisfied: ptyprocess>=0.5 in /usr/local/lib/python3.7/dist-packages (from pexpect->ipython->livelossplot) (0.7.0)\n",
            "Installing collected packages: livelossplot\n",
            "Successfully installed livelossplot-0.5.4\n",
            "0.5.3\n"
          ]
        }
      ],
      "source": [
        "try:\n",
        "    import torchbearer\n",
        "except:\n",
        "    !pip install -q torchbearer\n",
        "    import torchbearer\n",
        "\n",
        "!pip install livelossplot\n",
        "print(torchbearer.__version__)"
      ]
    },
    {
      "cell_type": "code",
      "execution_count": null,
      "metadata": {
        "id": "OyswfLkQ3nQy"
      },
      "outputs": [],
      "source": [
        "from livelossplot import PlotLossesKeras\n",
        "from livelossplot.keras import PlotLossesCallback\n",
        "\n",
        "\n",
        "plot_loss_1 = PlotLossesCallback()\n",
        "\n",
        "# ModelCheckpoint callback - save best weights\n",
        "tl_checkpoint_1 = ModelCheckpoint(filepath='tl_model_v1.weights.best.hdf5',\n",
        "                                  save_best_only=True,\n",
        "                                  verbose=1)\n",
        "\n",
        "# EarlyStopping\n",
        "early_stop = EarlyStopping(monitor='val_loss',\n",
        "                           patience=10,\n",
        "                           restore_best_weights=True,\n",
        "                           mode='min')"
      ]
    },
    {
      "cell_type": "code",
      "execution_count": null,
      "metadata": {
        "id": "m1aT35wg4n8O"
      },
      "outputs": [],
      "source": [
        "#%%time \n",
        "\n",
        "vgg_history = vgg_model.fit(traingen,\n",
        "                            batch_size=BATCH_SIZE,\n",
        "                            epochs=n_epochs,\n",
        "                            validation_data=validgen,\n",
        "                            steps_per_epoch=1,\n",
        "                            validation_steps=2,\n",
        "                            callbacks=[tl_checkpoint_1, early_stop, plot_loss_1],\n",
        "                            verbose=1)"
      ]
    },
    {
      "cell_type": "code",
      "execution_count": null,
      "metadata": {
        "id": "51l8NnTe4sx0"
      },
      "outputs": [],
      "source": [
        "# Generate predictions\n",
        "vgg_model.load_weights('tl_model_v1.weights.best.hdf5') # initialize the best trained weights\n",
        "\n",
        "true_classes = testgen.classes\n",
        "class_indices = traingen.class_indices\n",
        "class_indices = dict((v,k) for k,v in class_indices.items())\n",
        "\n",
        "vgg_preds = vgg_model.predict(testgen)\n",
        "vgg_pred_classes = np.argmax(vgg_preds, axis=1)"
      ]
    },
    {
      "cell_type": "code",
      "execution_count": null,
      "metadata": {
        "colab": {
          "base_uri": "https://localhost:8080/"
        },
        "id": "sW73Xhi_4wXU",
        "outputId": "7c3573c6-0e0f-4845-a7c6-894ba3796f0b"
      },
      "outputs": [
        {
          "name": "stdout",
          "output_type": "stream",
          "text": [
            "VGG16 Model Accuracy without Fine-Tuning: 56.43%\n"
          ]
        }
      ],
      "source": [
        "from sklearn.metrics import accuracy_score\n",
        "\n",
        "vgg_acc = accuracy_score(true_classes, vgg_pred_classes)\n",
        "print(\"VGG16 Model Accuracy without Fine-Tuning: {:.2f}%\".format(vgg_acc * 100))"
      ]
    },
    {
      "cell_type": "code",
      "execution_count": null,
      "metadata": {
        "colab": {
          "base_uri": "https://localhost:8080/"
        },
        "id": "ZJizTxAT5AD-",
        "outputId": "3c4fcc9d-2464-4a8d-dc9c-5e3e8d536b34"
      },
      "outputs": [
        {
          "name": "stderr",
          "output_type": "stream",
          "text": [
            "/usr/local/lib/python3.7/dist-packages/keras/optimizer_v2/adam.py:105: UserWarning: The `lr` argument is deprecated, use `learning_rate` instead.\n",
            "  super(Adam, self).__init__(name, **kwargs)\n"
          ]
        }
      ],
      "source": [
        "# Reset our image data generators\n",
        "traingen.reset()\n",
        "validgen.reset()\n",
        "testgen.reset()\n",
        "\n",
        "# Use a smaller learning rate\n",
        "optim_2 = Adam(lr=0.0001)\n",
        "\n",
        "# Re-compile the model, this time leaving the last 2 layers unfrozen for Fine-Tuning\n",
        "vgg_model_ft = create_model(input_shape, n_classes, optim_2, fine_tune=2)"
      ]
    },
    {
      "cell_type": "code",
      "execution_count": null,
      "metadata": {
        "colab": {
          "background_save": true,
          "base_uri": "https://localhost:8080/",
          "height": 741
        },
        "id": "lsXv22BL5Cr5",
        "outputId": "a74c4723-dc66-4bfc-c9a2-0ea49e7bc8c6"
      },
      "outputs": [
        {
          "data": {
            "image/png": "[encoded data removed]",
            "text/plain": [
              "<Figure size 864x576 with 2 Axes>"
            ]
          },
          "metadata": {},
          "output_type": "display_data"
        },
        {
          "name": "stdout",
          "output_type": "stream",
          "text": [
            "accuracy\n",
            "\ttraining         \t (min:    0.299, max:    0.615, cur:    0.615)\n",
            "\tvalidation       \t (min:    0.449, max:    0.670, cur:    0.670)\n",
            "Loss\n",
            "\ttraining         \t (min:    1.163, max:    3.904, cur:    1.163)\n",
            "\tvalidation       \t (min:    1.015, max:    1.800, cur:    1.015)\n",
            "85/85 [==============================] - 585s 7s/step - loss: 1.1631 - accuracy: 0.6154 - val_loss: 1.0150 - val_accuracy: 0.6696\n",
            "Epoch 13/30\n",
            "15/85 [====>.........................] - ETA: 7:20 - loss: 1.1329 - accuracy: 0.6146"
          ]
        }
      ],
      "source": [
        "#%%time\n",
        "\n",
        "plot_loss_2 = PlotLossesCallback()\n",
        "\n",
        "# Retrain model with fine-tuning\n",
        "vgg_ft_history = vgg_model_ft.fit(traingen,\n",
        "                                  batch_size=BATCH_SIZE,\n",
        "                                  epochs=n_epochs,\n",
        "                                  validation_data=validgen,\n",
        "                                  steps_per_epoch=n_steps, \n",
        "                                  validation_steps=n_val_steps,\n",
        "                                  callbacks=[tl_checkpoint_1, early_stop, plot_loss_2],\n",
        "                                  verbose=1)"
      ]
    },
    {
      "cell_type": "code",
      "execution_count": null,
      "metadata": {
        "id": "pb0F5N1u5Gg4"
      },
      "outputs": [],
      "source": [
        "# Generate predictions\n",
        "vgg_model_ft.load_weights('tl_model_v1.weights.best.hdf5') # initialize the best trained weights\n",
        "\n",
        "vgg_preds_ft = vgg_model_ft.predict(testgen)\n",
        "vgg_pred_classes_ft = np.argmax(vgg_preds_ft, axis=1)"
      ]
    },
    {
      "cell_type": "code",
      "execution_count": null,
      "metadata": {
        "id": "g05FH7335Iqn"
      },
      "outputs": [],
      "source": [
        "from sklearn.metrics import accuracy_score\n",
        "true_classes = testgen.classes\n",
        "\n",
        "vgg_acc_ft = accuracy_score(true_classes, vgg_pred_classes_ft)\n",
        "print(\"VGG19 Model Accuracy with Fine-Tuning: {:.2f}%\".format(vgg_acc_ft * 100))"
      ]
    },
    {
      "cell_type": "code",
      "execution_count": null,
      "metadata": {
        "colab": {
          "base_uri": "https://localhost:8080/"
        },
        "id": "gbfBFxuvOIFA",
        "outputId": "d4c299e5-1af7-4042-cde1-c33f3993c16d"
      },
      "outputs": [
        {
          "name": "stdout",
          "output_type": "stream",
          "text": [
            "Model: \"model\"\n",
            "_________________________________________________________________\n",
            " Layer (type)                Output Shape              Param #   \n",
            "=================================================================\n",
            " input_1 (InputLayer)        [(None, 224, 224, 3)]     0         \n",
            "                                                                 \n",
            " block1_conv1 (Conv2D)       (None, 224, 224, 64)      1792      \n",
            "                                                                 \n",
            " block1_conv2 (Conv2D)       (None, 224, 224, 64)      36928     \n",
            "                                                                 \n",
            " block1_pool (MaxPooling2D)  (None, 112, 112, 64)      0         \n",
            "                                                                 \n",
            " block2_conv1 (Conv2D)       (None, 112, 112, 128)     73856     \n",
            "                                                                 \n",
            " block2_conv2 (Conv2D)       (None, 112, 112, 128)     147584    \n",
            "                                                                 \n",
            " block2_pool (MaxPooling2D)  (None, 56, 56, 128)       0         \n",
            "                                                                 \n",
            " block3_conv1 (Conv2D)       (None, 56, 56, 256)       295168    \n",
            "                                                                 \n",
            " block3_conv2 (Conv2D)       (None, 56, 56, 256)       590080    \n",
            "                                                                 \n",
            " block3_conv3 (Conv2D)       (None, 56, 56, 256)       590080    \n",
            "                                                                 \n",
            " block3_pool (MaxPooling2D)  (None, 28, 28, 256)       0         \n",
            "                                                                 \n",
            " block4_conv1 (Conv2D)       (None, 28, 28, 512)       1180160   \n",
            "                                                                 \n",
            " block4_conv2 (Conv2D)       (None, 28, 28, 512)       2359808   \n",
            "                                                                 \n",
            " block4_conv3 (Conv2D)       (None, 28, 28, 512)       2359808   \n",
            "                                                                 \n",
            " block4_pool (MaxPooling2D)  (None, 14, 14, 512)       0         \n",
            "                                                                 \n",
            " block5_conv1 (Conv2D)       (None, 14, 14, 512)       2359808   \n",
            "                                                                 \n",
            " block5_conv2 (Conv2D)       (None, 14, 14, 512)       2359808   \n",
            "                                                                 \n",
            " block5_conv3 (Conv2D)       (None, 14, 14, 512)       2359808   \n",
            "                                                                 \n",
            " block5_pool (MaxPooling2D)  (None, 7, 7, 512)         0         \n",
            "                                                                 \n",
            " flatten (Flatten)           (None, 25088)             0         \n",
            "                                                                 \n",
            " dense (Dense)               (None, 4096)              102764544 \n",
            "                                                                 \n",
            " dense_1 (Dense)             (None, 1072)              4391984   \n",
            "                                                                 \n",
            " dropout (Dropout)           (None, 1072)              0         \n",
            "                                                                 \n",
            " dense_2 (Dense)             (None, 3)                 3219      \n",
            "                                                                 \n",
            "=================================================================\n",
            "Total params: 121,874,435\n",
            "Trainable params: 107,159,747\n",
            "Non-trainable params: 14,714,688\n",
            "_________________________________________________________________\n"
          ]
        }
      ],
      "source": [
        "from keras.models import load_model\n",
        "\n",
        "scratch_model = load_model('/content/tl_model_v1.weights.best.hdf5')\n",
        "\n",
        "scratch_model.summary()"
      ]
    },
    {
      "cell_type": "code",
      "execution_count": null,
      "metadata": {
        "colab": {
          "base_uri": "https://localhost:8080/"
        },
        "id": "LECa7zto5LkS",
        "outputId": "8e8627c4-edce-4e14-9c62-8d56c8eb3785"
      },
      "outputs": [
        {
          "name": "stdout",
          "output_type": "stream",
          "text": [
            "Found 3000 images belonging to 3 classes.\n",
            "From Scratch Model Accuracy with Fine-Tuning: 33.33%\n"
          ]
        }
      ],
      "source": [
        "# Loading predictions from last article's model\n",
        "test_generator = ImageDataGenerator(rescale=1/255.)\n",
        "\n",
        "testgen = test_generator.flow_from_directory(download_dir/'test',\n",
        "                                             target_size=(224, 224),\n",
        "                                             batch_size=1,\n",
        "                                             class_mode=None,\n",
        "                                             shuffle=False,\n",
        "                                             seed=42)\n",
        "\n",
        "scratch_preds = scratch_model.predict(testgen)\n",
        "scratch_pred_classes = np.argmax(scratch_preds, axis=1)\n",
        "\n",
        "scratch_acc = accuracy_score(true_classes, scratch_pred_classes)\n",
        "print(\"From Scratch Model Accuracy with Fine-Tuning: {:.2f}%\".format(scratch_acc * 100))"
      ]
    },
    {
      "cell_type": "code",
      "execution_count": null,
      "metadata": {
        "colab": {
          "base_uri": "https://localhost:8080/",
          "height": 938
        },
        "id": "6VoJ1Oix5PiL",
        "outputId": "02435b50-d1ff-40b2-87d8-345b17a76934"
      },
      "outputs": [
        {
          "data": {
            "image/png": "[encoded data removed]",
            "text/plain": [
              "<Figure size 1440x720 with 1 Axes>"
            ]
          },
          "metadata": {},
          "output_type": "display_data"
        }
      ],
      "source": [
        "import seaborn as sns\n",
        "from sklearn.metrics import confusion_matrix\n",
        "import matplotlib.pyplot as plt\n",
        "\n",
        "# Get the names of the ten classes\n",
        "class_names = testgen.class_indices.keys()\n",
        "\n",
        "def plot_heatmap(y_true, y_pred, class_names, ax, title):\n",
        "    cm = confusion_matrix(y_true, y_pred)\n",
        "    sns.heatmap(\n",
        "        cm, \n",
        "        annot=True, \n",
        "        square=True, \n",
        "        xticklabels=class_names, \n",
        "        yticklabels=class_names,\n",
        "        fmt='d', \n",
        "        cmap=plt.cm.Blues,\n",
        "        cbar=False,\n",
        "        ax=ax\n",
        "    )\n",
        "    ax.set_title(title, fontsize=16)\n",
        "    ax.set_xticklabels(ax.get_xticklabels(), rotation=45, ha=\"right\")\n",
        "    ax.set_ylabel('True Label', fontsize=12)\n",
        "    ax.set_xlabel('Predicted Label', fontsize=12)\n",
        "\n",
        "fig, (ax3) = plt.subplots(1, 1, figsize=(20, 10))\n",
        "\n",
        "#plot_heatmap(true_classes, scratch_pred_classes, class_names, ax1, title=\"Custom CNN\")    \n",
        "#plot_heatmap(true_classes, vgg_pred_classes, class_names, ax2, title=\"Transfer Learning (VGG16) No Fine-Tuning\")    \n",
        "plot_heatmap(true_classes, vgg_pred_classes_ft, class_names, ax3, title=\"Transfer Learning (VGG16) with Fine-Tuning\")    \n",
        "\n",
        "#fig.suptitle(\"Confusion Matrix Model Comparison\", fontsize=24)\n",
        "fig.tight_layout()\n",
        "fig.subplots_adjust(top=1.25)\n",
        "plt.show()"
      ]
    },
    {
      "cell_type": "code",
      "execution_count": null,
      "metadata": {
        "colab": {
          "base_uri": "https://localhost:8080/"
        },
        "id": "bI_QEi1UJlQg",
        "outputId": "716f7542-5afb-432b-f260-3f8a976e0d4b"
      },
      "outputs": [
        {
          "name": "stdout",
          "output_type": "stream",
          "text": [
            "              precision    recall  f1-score   support\n",
            "\n",
            "           0       0.70      0.63      0.66      1000\n",
            "           1       0.41      0.73      0.53      1000\n",
            "           2       0.99      0.33      0.50      1000\n",
            "\n",
            "    accuracy                           0.56      3000\n",
            "   macro avg       0.70      0.56      0.56      3000\n",
            "weighted avg       0.70      0.56      0.56      3000\n",
            "\n"
          ]
        }
      ],
      "source": [
        "from sklearn.metrics import classification_report\n",
        "print(classification_report(true_classes,vgg_pred_classes))"
      ]
    },
    {
      "cell_type": "code",
      "execution_count": null,
      "metadata": {
        "colab": {
          "base_uri": "https://localhost:8080/"
        },
        "id": "NTC-eTCABC0P",
        "outputId": "21df4fbc-6d12-4ae6-9a6e-898e952254be"
      },
      "outputs": [
        {
          "name": "stdout",
          "output_type": "stream",
          "text": [
            "\n",
            "Calculated:\n",
            "precision_micro: 0.5643333333333334\n",
            "precision_macro: 0.7038503317313398\n",
            "recall_micro: 0.5643333333333334\n",
            "recall_macro: 0.5643333333333334\n"
          ]
        }
      ],
      "source": [
        "cm = confusion_matrix(true_classes, vgg_pred_classes)\n",
        "TP = cm.diagonal()\n",
        "\n",
        "precision_micro = TP.sum()/cm.sum()\n",
        "recall_micro = TP.sum()/cm.sum()\n",
        "\n",
        "precision_macro = np.nanmean(TP/cm.sum(0))\n",
        "recall_macro = np.nanmean(TP/cm.sum(1))\n",
        "\n",
        "print(\"\")\n",
        "print(\"Calculated:\")\n",
        "print(\"precision_micro:\", precision_micro)\n",
        "print(\"precision_macro:\", precision_macro)\n",
        "print(\"recall_micro:\", recall_micro)\n",
        "print(\"recall_macro:\", recall_macro)"
      ]
    },
    {
      "cell_type": "code",
      "execution_count": null,
      "metadata": {
        "colab": {
          "base_uri": "https://localhost:8080/"
        },
        "id": "6hWvbmzEIpuD",
        "outputId": "ccbb30b8-cd6f-4b9c-9512-7478bc509b56"
      },
      "outputs": [
        {
          "name": "stdout",
          "output_type": "stream",
          "text": [
            "F1 macro: 0.626417473770983\n"
          ]
        }
      ],
      "source": [
        "f1 = (2*precision_macro*recall_macro)/(recall_macro+precision_macro)\n",
        "\n",
        "print(\"F1 macro:\",f1)"
      ]
    },
    {
      "cell_type": "code",
      "execution_count": null,
      "metadata": {
        "colab": {
          "base_uri": "https://localhost:8080/",
          "height": 282
        },
        "id": "JFYroNrXMWZ6",
        "outputId": "98408779-bbd0-4948-af7e-11f6faec7097"
      },
      "outputs": [
        {
          "data": {
            "text/plain": [
              "<matplotlib.axes._subplots.AxesSubplot at 0x7f0f5e14f890>"
            ]
          },
          "execution_count": 32,
          "metadata": {},
          "output_type": "execute_result"
        },
        {
          "data": {
            "image/png": "[encoded data removed]",
            "text/plain": [
              "<Figure size 432x288 with 2 Axes>"
            ]
          },
          "metadata": {},
          "output_type": "display_data"
        }
      ],
      "source": [
        "predict_y = vgg_model.predict(testgen)\n",
        "predict_value = []\n",
        "for predict in predict_y:\n",
        "  if (predict>0.5).all():\n",
        "    predict_value.append(1)\n",
        "  else:\n",
        "    predict_value.append(0)\n",
        "from sklearn.metrics import confusion_matrix\n",
        "conmatrix = confusion_matrix(true_classes,vgg_pred_classes)\n",
        "import seaborn as sns\n",
        "sns.heatmap(cm, annot=True,cmap=\"Blues\",fmt=\"d\",cbar=True,annot_kws={\"size\": 10})"
      ]
    },
    {
      "cell_type": "code",
      "execution_count": null,
      "metadata": {
        "colab": {
          "base_uri": "https://localhost:8080/"
        },
        "id": "yETjUOx7O9p6",
        "outputId": "5cea9cce-c513-402f-8d2f-652b69227bec"
      },
      "outputs": [
        {
          "name": "stdout",
          "output_type": "stream",
          "text": [
            "              precision    recall  f1-score   support\n",
            "\n",
            "           0       0.70      0.63      0.66      1000\n",
            "           1       0.41      0.73      0.53      1000\n",
            "           2       0.99      0.33      0.50      1000\n",
            "\n",
            "    accuracy                           0.56      3000\n",
            "   macro avg       0.70      0.56      0.56      3000\n",
            "weighted avg       0.70      0.56      0.56      3000\n",
            "\n"
          ]
        }
      ],
      "source": [
        "from sklearn.metrics import classification_report\n",
        "print(classification_report(true_classes,vgg_pred_classes))"
      ]
    }
  ],
  "metadata": {
    "accelerator": "GPU",
    "colab": {
      "collapsed_sections": [],
      "name": "cse465&498R.ipynb",
      "provenance": [],
      "include_colab_link": true
    },
    "kernelspec": {
      "display_name": "Python 3",
      "name": "python3"
    },
    "language_info": {
      "name": "python"
    }
  },
  "nbformat": 4,
  "nbformat_minor": 0
}